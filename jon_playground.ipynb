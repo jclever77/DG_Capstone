{
 "cells": [
  {
   "cell_type": "code",
   "execution_count": 2,
   "metadata": {},
   "outputs": [],
   "source": [
    "# setup commands\n",
    "\n",
    "%load_ext autoreload\n",
    "%autoreload 2"
   ]
  },
  {
   "cell_type": "code",
   "execution_count": 5,
   "metadata": {},
   "outputs": [
    {
     "name": "stdout",
     "output_type": "stream",
     "text": [
      "(66, 23, 3)\n",
      "(76, 23, 3)\n",
      "(356, 23, 3)\n",
      "(236, 23, 3)\n",
      "(205, 23, 3)\n",
      "(254, 23, 3)\n",
      "(277, 23, 3)\n",
      "(375, 23, 3)\n",
      "(286, 23, 3)\n",
      "(269, 23, 3)\n",
      "(709, 23, 3)\n",
      "(135, 23, 3)\n",
      "(290, 23, 3)\n",
      "(264, 23, 3)\n",
      "(270, 23, 3)\n",
      "(45, 23, 3)\n",
      "(64, 23, 3)\n",
      "(275, 23, 3)\n",
      "(268, 23, 3)\n",
      "(173, 23, 3)\n",
      "(74, 23, 3)\n",
      "(504, 23, 3)\n",
      "(501, 23, 3)\n",
      "(192, 23, 3)\n",
      "(174, 23, 3)\n",
      "(266, 23, 3)\n",
      "(207, 23, 3)\n",
      "(117, 23, 3)\n",
      "(209, 23, 3)\n",
      "(138, 23, 3)\n",
      "(301, 23, 3)\n",
      "(234, 23, 3)\n",
      "(184, 23, 3)\n",
      "(137, 23, 3)\n",
      "(151, 23, 3)\n",
      "(123, 23, 3)\n",
      "(166, 23, 3)\n",
      "(204, 23, 3)\n",
      "(208, 23, 3)\n",
      "(370, 23, 3)\n",
      "(239, 23, 3)\n",
      "(37, 23, 3)\n",
      "(120, 23, 3)\n",
      "(49, 23, 3)\n",
      "(69, 23, 3)\n",
      "(281, 23, 3)\n",
      "(129, 23, 3)\n",
      "(253, 23, 3)\n",
      "(150, 23, 3)\n",
      "(206, 23, 3)\n",
      "(123, 23, 3)\n",
      "(214, 23, 3)\n",
      "(310, 23, 3)\n",
      "(92, 23, 3)\n",
      "(59, 23, 3)\n",
      "(172, 23, 3)\n",
      "(282, 23, 3)\n",
      "(44, 23, 3)\n",
      "(288, 23, 3)\n",
      "(70, 23, 3)\n",
      "(168, 23, 3)\n",
      "(358, 23, 3)\n",
      "(123, 23, 3)\n",
      "(288, 23, 3)\n",
      "(14, 23, 3)\n",
      "(302, 23, 3)\n",
      "(279, 23, 3)\n",
      "(133, 23, 3)\n",
      "(226, 23, 3)\n",
      "(279, 23, 3)\n",
      "(64, 23, 3)\n",
      "(217, 23, 3)\n",
      "(138, 23, 3)\n",
      "(72, 23, 3)\n",
      "(160, 23, 3)\n",
      "(240, 23, 3)\n",
      "(158, 23, 3)\n",
      "(171, 23, 3)\n",
      "(246, 23, 3)\n",
      "(171, 23, 3)\n",
      "(140, 23, 3)\n",
      "(65, 23, 3)\n",
      "82\n"
     ]
    }
   ],
   "source": [
    "import yoga_dataset\n",
    "import os\n",
    "import numpy as np\n",
    "\n",
    "\n",
    "data_path = 'data'\n",
    "count = 0\n",
    "for file in os.listdir(data_path):\n",
    "    file_path = os.path.join(data_path, file)\n",
    "    arr = np.load(file_path)\n",
    "    print(arr.shape)\n",
    "    count += 1\n",
    "\n",
    "print(count)"
   ]
  },
  {
   "cell_type": "code",
   "execution_count": 19,
   "metadata": {},
   "outputs": [
    {
     "name": "stdout",
     "output_type": "stream",
     "text": [
      "torch.Size([10, 64, 23])\n",
      "torch.Size([10, 82])\n"
     ]
    }
   ],
   "source": [
    "import torch\n",
    "from cnn import CNN\n",
    "\n",
    "\n",
    "input = torch.randn(10, 3, 23)\n",
    "model = CNN([3, 16, 32, 64, 64])\n",
    "out = model(input)\n",
    "print(out.shape)"
   ]
  }
 ],
 "metadata": {
  "kernelspec": {
   "display_name": "yogapose",
   "language": "python",
   "name": "python3"
  },
  "language_info": {
   "codemirror_mode": {
    "name": "ipython",
    "version": 3
   },
   "file_extension": ".py",
   "mimetype": "text/x-python",
   "name": "python",
   "nbconvert_exporter": "python",
   "pygments_lexer": "ipython3",
   "version": "3.7.16"
  },
  "orig_nbformat": 4
 },
 "nbformat": 4,
 "nbformat_minor": 2
}
